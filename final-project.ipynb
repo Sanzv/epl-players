{
 "cells": [
  {
   "cell_type": "markdown",
   "metadata": {},
   "source": [
    "# Project Overview"
   ]
  },
  {
   "cell_type": "markdown",
   "metadata": {},
   "source": [
    "In a short paragragh describe the problem you want to explore use data science techniques"
   ]
  },
  {
   "cell_type": "markdown",
   "metadata": {},
   "source": [
    "# Problem Description\n",
    "In one sentence describe the problem you want to explore with data science"
   ]
  },
  {
   "cell_type": "markdown",
   "metadata": {},
   "source": [
    "# Subject Matter Expertise\n",
    "\n",
    "In bulleted format, describe the subject matters that will help you explore your topic. Example:\n",
    " \n",
    "1. Data Analysis\n",
    "2. Data Visualization\n",
    "3. Statistics and Probability\n",
    "4. Hypothesis Testing\n",
    "5. Linear Regression"
   ]
  },
  {
   "cell_type": "markdown",
   "metadata": {},
   "source": [
    "# Assumptions\n",
    "List any assumptions you may have about the topic. \n",
    "`Assumptions are a thing that is accepted as true or as certain to happen, without proof.`\n"
   ]
  },
  {
   "cell_type": "markdown",
   "metadata": {},
   "source": [
    "# Steps to Explore the Topic and Problem\n",
    "\n",
    "List the steps you're going to take to explore the topic using the data sources you identify and the techniques you already know. Please list them as step 1, step 2, step 3. Example:\n",
    "\n",
    "1. Download data from U.S. Census\n",
    "2. Web-scrape data from IMDB\n",
    "3. Find the number of actors that do not live in california\n",
    "4. Calculate the median salary for actors that do not live in California\n",
    "5. Show the relationship between actors living in CA vs outside CA with pie chart\n",
    "6. Show relationship between actors' salary living in CA vs outside CA with bar chart\n",
    "7. Calculate median home price of homes in CA using web scrape data\n",
    "8. Compare this to median salary for actors using bar chart\n",
    "9. Make some intitial Conclusions on actor salary, location, and median home price on if actors can afford to live in CA."
   ]
  },
  {
   "cell_type": "markdown",
   "metadata": {},
   "source": [
    "# Data Sources:\n",
    "\n",
    "In bulleted format, list where you will get data from. Data sources must include one existing data source and web-scrapted source. Example:\n",
    "\n",
    "1. U.S. Census Estimates of the Total Resident Population and Resident Population Age 18 Years and Older for the United States, States, and Puerto Rico `https://www2.census.gov/programs-surveys/popest/datasets/2010-2019/state/detail/SCPRC-EST2019-18+POP-RES.csv`\n",
    "2. Kaggle Elon Musk Tweets 'https://www.kaggle.com/kingburrito666/elon-musk-tweets'"
   ]
  },
  {
   "cell_type": "markdown",
   "metadata": {},
   "source": [
    "# Data Exploration\n",
    "Describe the data using what you know. For larger datasets may have to pull out columns that are of interst to you."
   ]
  },
  {
   "cell_type": "code",
   "execution_count": null,
   "metadata": {},
   "outputs": [],
   "source": [
    "# imports\n",
    "import pandas as pd\n",
    "import numpy as np\n",
    "import matplotlib\n",
    "%matplotlib inline\n",
    "import matplotlib.pyplot as plt\n",
    "plt.style.use('fivethirtyeight')"
   ]
  },
  {
   "cell_type": "code",
   "execution_count": 82,
   "metadata": {},
   "outputs": [
    {
     "data": {
      "text/html": [
       "<div>\n",
       "<style scoped>\n",
       "    .dataframe tbody tr th:only-of-type {\n",
       "        vertical-align: middle;\n",
       "    }\n",
       "\n",
       "    .dataframe tbody tr th {\n",
       "        vertical-align: top;\n",
       "    }\n",
       "\n",
       "    .dataframe thead th {\n",
       "        text-align: right;\n",
       "    }\n",
       "</style>\n",
       "<table border=\"1\" class=\"dataframe\">\n",
       "  <thead>\n",
       "    <tr style=\"text-align: right;\">\n",
       "      <th></th>\n",
       "      <th>name</th>\n",
       "      <th>club</th>\n",
       "      <th>age</th>\n",
       "      <th>position</th>\n",
       "      <th>position_cat</th>\n",
       "      <th>market_value</th>\n",
       "      <th>page_views</th>\n",
       "      <th>fpl_value</th>\n",
       "      <th>fpl_sel</th>\n",
       "      <th>fpl_points</th>\n",
       "      <th>region</th>\n",
       "      <th>nationality</th>\n",
       "      <th>new_foreign</th>\n",
       "      <th>age_cat</th>\n",
       "      <th>club_id</th>\n",
       "      <th>big_club</th>\n",
       "      <th>new_signing</th>\n",
       "    </tr>\n",
       "  </thead>\n",
       "  <tbody>\n",
       "    <tr>\n",
       "      <th>0</th>\n",
       "      <td>Alexis Sanchez</td>\n",
       "      <td>Arsenal</td>\n",
       "      <td>28</td>\n",
       "      <td>LW</td>\n",
       "      <td>1</td>\n",
       "      <td>65.0</td>\n",
       "      <td>4329</td>\n",
       "      <td>12.0</td>\n",
       "      <td>17.10%</td>\n",
       "      <td>264</td>\n",
       "      <td>3.0</td>\n",
       "      <td>Chile</td>\n",
       "      <td>0</td>\n",
       "      <td>4</td>\n",
       "      <td>1</td>\n",
       "      <td>1</td>\n",
       "      <td>0</td>\n",
       "    </tr>\n",
       "    <tr>\n",
       "      <th>1</th>\n",
       "      <td>Mesut Ozil</td>\n",
       "      <td>Arsenal</td>\n",
       "      <td>28</td>\n",
       "      <td>AM</td>\n",
       "      <td>1</td>\n",
       "      <td>50.0</td>\n",
       "      <td>4395</td>\n",
       "      <td>9.5</td>\n",
       "      <td>5.60%</td>\n",
       "      <td>167</td>\n",
       "      <td>2.0</td>\n",
       "      <td>Germany</td>\n",
       "      <td>0</td>\n",
       "      <td>4</td>\n",
       "      <td>1</td>\n",
       "      <td>1</td>\n",
       "      <td>0</td>\n",
       "    </tr>\n",
       "    <tr>\n",
       "      <th>2</th>\n",
       "      <td>Petr Cech</td>\n",
       "      <td>Arsenal</td>\n",
       "      <td>35</td>\n",
       "      <td>GK</td>\n",
       "      <td>4</td>\n",
       "      <td>7.0</td>\n",
       "      <td>1529</td>\n",
       "      <td>5.5</td>\n",
       "      <td>5.90%</td>\n",
       "      <td>134</td>\n",
       "      <td>2.0</td>\n",
       "      <td>Czech Republic</td>\n",
       "      <td>0</td>\n",
       "      <td>6</td>\n",
       "      <td>1</td>\n",
       "      <td>1</td>\n",
       "      <td>0</td>\n",
       "    </tr>\n",
       "    <tr>\n",
       "      <th>3</th>\n",
       "      <td>Theo Walcott</td>\n",
       "      <td>Arsenal</td>\n",
       "      <td>28</td>\n",
       "      <td>RW</td>\n",
       "      <td>1</td>\n",
       "      <td>20.0</td>\n",
       "      <td>2393</td>\n",
       "      <td>7.5</td>\n",
       "      <td>1.50%</td>\n",
       "      <td>122</td>\n",
       "      <td>1.0</td>\n",
       "      <td>England</td>\n",
       "      <td>0</td>\n",
       "      <td>4</td>\n",
       "      <td>1</td>\n",
       "      <td>1</td>\n",
       "      <td>0</td>\n",
       "    </tr>\n",
       "    <tr>\n",
       "      <th>4</th>\n",
       "      <td>Laurent Koscielny</td>\n",
       "      <td>Arsenal</td>\n",
       "      <td>31</td>\n",
       "      <td>CB</td>\n",
       "      <td>3</td>\n",
       "      <td>22.0</td>\n",
       "      <td>912</td>\n",
       "      <td>6.0</td>\n",
       "      <td>0.70%</td>\n",
       "      <td>121</td>\n",
       "      <td>2.0</td>\n",
       "      <td>France</td>\n",
       "      <td>0</td>\n",
       "      <td>4</td>\n",
       "      <td>1</td>\n",
       "      <td>1</td>\n",
       "      <td>0</td>\n",
       "    </tr>\n",
       "  </tbody>\n",
       "</table>\n",
       "</div>"
      ],
      "text/plain": [
       "                name     club  age position  position_cat  market_value  \\\n",
       "0     Alexis Sanchez  Arsenal   28       LW             1          65.0   \n",
       "1         Mesut Ozil  Arsenal   28       AM             1          50.0   \n",
       "2          Petr Cech  Arsenal   35       GK             4           7.0   \n",
       "3       Theo Walcott  Arsenal   28       RW             1          20.0   \n",
       "4  Laurent Koscielny  Arsenal   31       CB             3          22.0   \n",
       "\n",
       "   page_views  fpl_value fpl_sel  fpl_points  region     nationality  \\\n",
       "0        4329       12.0  17.10%         264     3.0           Chile   \n",
       "1        4395        9.5   5.60%         167     2.0         Germany   \n",
       "2        1529        5.5   5.90%         134     2.0  Czech Republic   \n",
       "3        2393        7.5   1.50%         122     1.0         England   \n",
       "4         912        6.0   0.70%         121     2.0          France   \n",
       "\n",
       "   new_foreign  age_cat  club_id  big_club  new_signing  \n",
       "0            0        4        1         1            0  \n",
       "1            0        4        1         1            0  \n",
       "2            0        6        1         1            0  \n",
       "3            0        4        1         1            0  \n",
       "4            0        4        1         1            0  "
      ]
     },
     "execution_count": 82,
     "metadata": {},
     "output_type": "execute_result"
    }
   ],
   "source": [
    "# Dataset 1\n",
    "\n",
    "epl_players = pd.read_csv(\"epldata_final.csv\")\n",
    "epl_players.head()"
   ]
  },
  {
   "cell_type": "code",
   "execution_count": null,
   "metadata": {},
   "outputs": [],
   "source": [
    "epl_players.shape"
   ]
  },
  {
   "cell_type": "code",
   "execution_count": null,
   "metadata": {},
   "outputs": [],
   "source": [
    "# Web scrape points table from Premier League website\n",
    "\n",
    "from bs4 import BeautifulSoup\n",
    "from urllib.request import Request, urlopen\n",
    "import pandas as pd\n",
    "\n",
    "def season_table(url):\n",
    "    team_names = []\n",
    "    team_positions = []\n",
    "\n",
    "    req = Request(url, headers={'User-Agent': 'Mozilla/5.0'})\n",
    "    webpage = urlopen(req)\n",
    "    bs = BeautifulSoup(webpage.read(),'html.parser')\n",
    "\n",
    "    teams = bs.find_all(\"tr\", { \"data-filtered-table-row\" : \"26\" })\n",
    "    for item in teams:\n",
    "        team_names.append(item[\"data-filtered-table-row-name\"])\n",
    "        team_positions.append(item.find(\"span\", { \"class\" : \"value\"}).text)\n",
    "    \n",
    "    points_table = pd.DataFrame({\"team_name\" : team_names, \"team_position\" : team_positions})\n",
    "    return points_table"
   ]
  },
  {
   "cell_type": "code",
   "execution_count": null,
   "metadata": {},
   "outputs": [],
   "source": [
    "# Dataset 2\n",
    "\n",
    "url_17_18 = \"https://www.premierleague.com/matchweek/1572/table\"\n",
    "table_17_18 = season_table(url_17_18)\n",
    "table_17_18"
   ]
  },
  {
   "cell_type": "code",
   "execution_count": null,
   "metadata": {},
   "outputs": [],
   "source": [
    "# Dataset 3\n",
    "\n",
    "url_18_19 = \"https://www.premierleague.com/matchweek/3272/table\"\n",
    "table_18_19 = season_table(url_18_19)\n",
    "table_18_19"
   ]
  },
  {
   "cell_type": "markdown",
   "metadata": {},
   "source": [
    "# Data Cleaning\n",
    "Show techniques you use to reduce impact of outliers, drop missing, or null values (if any)"
   ]
  },
  {
   "cell_type": "code",
   "execution_count": null,
   "metadata": {},
   "outputs": [],
   "source": [
    "epl_players.isnull().sum()"
   ]
  },
  {
   "cell_type": "markdown",
   "metadata": {},
   "source": [
    "# Describe the Data Using Descriptive Stats\n",
    "Use descriptive stats to tell us about your data. Must include mean, median, and mode where applicable. Also must talk about normality of data.\n",
    "\n",
    "Remember what `standard deviation`, `mean`, `central tendency`, and `variance` mean for your data"
   ]
  },
  {
   "cell_type": "code",
   "execution_count": null,
   "metadata": {},
   "outputs": [],
   "source": [
    "def find_descriptive_stats(column_name):\n",
    "    mean_val = epl_players[column_name].mean()\n",
    "    median_val = epl_players[column_name].median()\n",
    "    max_val = epl_players[column_name].max()\n",
    "    min_val = epl_players[column_name].min()\n",
    "    std_val = epl_players[column_name].std()\n",
    "    var_val = epl_players[column_name].var()\n",
    "    q25 = np.quantile(epl_players[column_name], 0.25)\n",
    "    q75 = np.quantile(epl_players[column_name], 0.75)\n",
    "    \n",
    "    print(\"Mean: \", mean_val)\n",
    "    print(\"Median: \", median_val)\n",
    "    print(\"Max: \", max_val)\n",
    "    print(\"Min: \", min_val)\n",
    "    print(\"Standard Deviation: \", std_val)\n",
    "    print(\"Variance: \", var_val)\n",
    "    print(\"25th Percentile: \", q25)\n",
    "    print(\"75th Percentile : \", q75)\n",
    "    \n",
    "    return (mean_val, median_val, max_val, min_val, std_val, var_val, q25, q75)\n",
    "    \n",
    "for col_name in [\"age\", \"market_value\", \"page_views\", \"fpl_value\"]:\n",
    "    print(\"For column: \", col_name)\n",
    "    find_descriptive_stats(col_name)\n",
    "    print()\n",
    "    "
   ]
  },
  {
   "cell_type": "markdown",
   "metadata": {},
   "source": [
    "# Inferential Statistics\n",
    "\n",
    "Todo: related to probability, probably this should  be in the probability section below"
   ]
  },
  {
   "cell_type": "markdown",
   "metadata": {},
   "source": [
    "# Data Visualization Continued\n",
    "Use everything from the miniproject 1 to describe the plots you will use to visualize you data. \n",
    "\n",
    "Must use histogram, bar charts, and pie charts to describe aspects abou tthe data\n",
    "\n",
    "Determine if your data is normal or not!\n"
   ]
  },
  {
   "cell_type": "code",
   "execution_count": 116,
   "metadata": {},
   "outputs": [],
   "source": [
    "'''\n",
    "age with histogram\n",
    "market value histogram\n",
    "page views with histogram\n",
    "club and their  players average market value with bar chart\n",
    "club and their  players  average page views  with bar chart\n",
    "nationality in pie chart, might be unrelated\n",
    "age in pie chart\n",
    "\n",
    "relation of age and market value in scatter plot\n",
    "relation of page viewes and market value in scatter plot\n",
    "'''\n",
    "\n",
    "def plot_histogram(data, title, xlabel, ylabel):\n",
    "    plt.hist(data, edgecolor=\"black\", linewidth=1.2)\n",
    "    plt.title(title)\n",
    "    plt.xlabel(xlabel)\n",
    "    plt.ylabel(ylabel)\n",
    "    plt.show()\n",
    "\n",
    "# width should be smaller than  bar_size_multiplier\n",
    "# Do not display xticks by default as there might not be enough space\n",
    "def plot_bar_chart(distribution, bar_size_multiplier, width, figsize_x, figsize_y, title, xlabel, ylabel, xticks=False):\n",
    "    plt.figure(figsize=(figsize_x, figsize_y))\n",
    "    x_pos = [i*bar_size_multiplier for i in range(len(distribution))]\n",
    "    keys = []\n",
    "    values = []\n",
    "    for key, value in distribution.items():\n",
    "        keys.append(key)\n",
    "        values.append(np.mean(value))\n",
    "    plt.bar(x_pos, values, width=width)\n",
    "    plt.title(title)\n",
    "    plt.xlabel(xlabel)\n",
    "    plt.ylabel(ylabel)\n",
    "    if xticks:\n",
    "        plt.xticks(x_pos, keys) \n",
    "    plt.show()\n",
    "\n",
    "def plot_pie_chart(distribution):\n",
    "    keys = []\n",
    "    values = []\n",
    "    for key, value in distribution.items():\n",
    "        keys.append(key)\n",
    "        values.append(len(value))\n",
    "    plt.pie(values, labels=keys)\n",
    "    plt.show()"
   ]
  },
  {
   "cell_type": "code",
   "execution_count": 78,
   "metadata": {},
   "outputs": [
    {
     "data": {
      "image/png": "[encoded data removed]",
      "text/plain": [
       "<Figure size 432x288 with 1 Axes>"
      ]
     },
     "metadata": {},
     "output_type": "display_data"
    }
   ],
   "source": [
    "plot_histogram(epl_players[\"age\"], \"Age distribution\", \"Age\", \"Frequency\")"
   ]
  },
  {
   "cell_type": "code",
   "execution_count": 92,
   "metadata": {},
   "outputs": [],
   "source": [
    "def record_one_distribution(match_column, match_value, record_column):\n",
    "    return epl_players[epl_players[match_column] == match_value][record_column].tolist()\n",
    "\n",
    "def record_all_distributions(match_column, record_column):\n",
    "    unique_values = epl_players[match_column].unique().tolist()\n",
    "    distributions = {}\n",
    "    \n",
    "    for match_value in unique_values:\n",
    "        distributions[match_value] = record_one_distribution(match_column, match_value, record_column)\n",
    "    return distributions\n",
    "\n",
    "# Record distributions in dictionaries\n",
    "clubs_to_market_val = record_all_distributions(\"club\", \"market_value\")\n",
    "\n",
    "clubs_to_page_views = record_all_distributions(\"club\", \"page_views\")\n",
    "\n",
    "positions_to_market_val = record_all_distributions(\"position\", \"market_value\")\n"
   ]
  },
  {
   "cell_type": "code",
   "execution_count": 110,
   "metadata": {},
   "outputs": [
    {
     "data": {
      "image/png": "[encoded data removed]",
      "text/plain": [
       "<Figure size 1440x720 with 1 Axes>"
      ]
     },
     "metadata": {},
     "output_type": "display_data"
    }
   ],
   "source": [
    "plot_bar_chart(clubs_to_market_val, 5, 4, 20, 10, \"Clubs to Average Market Value\", \"Clubs\", \"Average Market Value\")"
   ]
  },
  {
   "cell_type": "code",
   "execution_count": 113,
   "metadata": {},
   "outputs": [
    {
     "data": {
      "image/png": "[encoded data removed]",
      "text/plain": [
       "<Figure size 1440x720 with 1 Axes>"
      ]
     },
     "metadata": {},
     "output_type": "display_data"
    }
   ],
   "source": [
    "plot_bar_chart(positions_to_market_val, 5, 4, 20, 10, \"Positions to Average Market Value\", \"Positions\", \"Average Market Value\", xticks=True)\n"
   ]
  },
  {
   "cell_type": "code",
   "execution_count": 117,
   "metadata": {},
   "outputs": [
    {
     "data": {
      "image/png": "[encoded data removed]",
      "text/plain": [
       "<Figure size 432x288 with 1 Axes>"
      ]
     },
     "metadata": {},
     "output_type": "display_data"
    }
   ],
   "source": [
    "plot_pie_chart(positions_to_market_val)"
   ]
  },
  {
   "cell_type": "markdown",
   "metadata": {},
   "source": [
    "## Data Sampling\n",
    "\n",
    "Draw random some samples from your dataset(s)\n",
    "(If you joined your dataset into one large dataset, only sample randomly from this large dataset)\n",
    "\n",
    "You must describe how you choose to pick the random samples, i.e. systematic, probablistic sampling\n",
    "\n",
    "You must describe if you draw random samples with or without replacement\n",
    "\n",
    "Describe why or why not you chose to randomly draw samples with replacement or without replacement"
   ]
  },
  {
   "cell_type": "code",
   "execution_count": null,
   "metadata": {},
   "outputs": [],
   "source": [
    "# comparing two different position players and their average market value\n",
    "\n",
    "# check which size of sample will give a representativ distribution of the sample\n",
    "\n",
    "# take a random sample of player data\n",
    "# calculate observed difference of the mean of their market value\n",
    "# for above, define a function that will take a sample and return the average difference in the mean market value\n",
    "# to calculate the difference, take all the market values, shuffle them, add these as new column to dataframe, and\n",
    "# find the difference of the market value with this value in the new suffled column value\n",
    "\n",
    "# use bootstrapping to a lot of samples from this sample\n",
    "# all these samaples will give a  distribution of empirical differences\n",
    "# calculate the p-value and conclude a hypotheesis\n",
    "\n",
    "# hypothesis: players of certain position have bigger market value than player of another position"
   ]
  },
  {
   "cell_type": "markdown",
   "metadata": {},
   "source": [
    "## Find Probability\n",
    "Find the probability of two events that must both happen in your data analysis\n",
    "\n",
    "Find the probablity of an event that doesn't happen using your dataset(s)\n",
    "\n",
    "Find the probability of event that is equally likely occur. You might have to think about this in regards to your problem that you are exploring\n",
    "\n"
   ]
  },
  {
   "cell_type": "code",
   "execution_count": null,
   "metadata": {},
   "outputs": [],
   "source": [
    "# probability that a player plays in this potition \n",
    "# probability that a player plays in other position"
   ]
  },
  {
   "cell_type": "markdown",
   "metadata": {},
   "source": [
    "## Testing Hypotheses\n",
    "\n",
    "Choose two hypotheses you want to explore in regards to your topic.\n",
    "Examples:\n",
    "The state of Montana likes cheesecake as a desert?\n",
    "Have the demographics of Washington, DC decreased over the past decade?\n",
    "United States streaming services mainly stream rap or hip/hop?\n",
    "\n",
    "### Note: Make sure to note the Null and the alternative hypotheses for each of the questions you want to test"
   ]
  },
  {
   "cell_type": "markdown",
   "metadata": {},
   "source": [
    "## Test Statistics \n",
    "For each of your questions list the test statistic that you are going to use to test the hypothesis."
   ]
  },
  {
   "cell_type": "markdown",
   "metadata": {},
   "source": [
    "## Observed Values\n",
    "Show the oberved value of the test statistics"
   ]
  },
  {
   "cell_type": "markdown",
   "metadata": {},
   "source": [
    "# Hypothesis Tests Conclusions\n",
    "Based on what you found about your topic communicate it to the audience. "
   ]
  },
  {
   "cell_type": "markdown",
   "metadata": {},
   "source": [
    "# Topic Conclusions\n",
    "Sum up the conclusions about what you did and why it is interesting to you, the public reading your analysis or to a particular population"
   ]
  },
  {
   "cell_type": "markdown",
   "metadata": {},
   "source": [
    "# Normal distribution of columns and their conversion to standard units,  this might be relevant in the correlation part as well"
   ]
  },
  {
   "cell_type": "markdown",
   "metadata": {},
   "source": [
    "# Correlation of market_value and fpl_value\n",
    "\n",
    "Use scatter plot too show the relation between these variables\n",
    "\n",
    "Define a generic function that can be used to explore the corellation between any set of variables"
   ]
  },
  {
   "cell_type": "code",
   "execution_count": null,
   "metadata": {},
   "outputs": [],
   "source": []
  },
  {
   "cell_type": "markdown",
   "metadata": {},
   "source": [
    "# Regression parameters and a scatter plot with regression line, see lab 15\n"
   ]
  },
  {
   "cell_type": "code",
   "execution_count": null,
   "metadata": {},
   "outputs": [],
   "source": []
  },
  {
   "cell_type": "markdown",
   "metadata": {},
   "source": [
    "# Least square regression line and scatter plot with this line"
   ]
  },
  {
   "cell_type": "code",
   "execution_count": null,
   "metadata": {},
   "outputs": [],
   "source": []
  },
  {
   "cell_type": "markdown",
   "metadata": {},
   "source": [
    "# Relation of average value of a team's players and the position in table for the season for both seasons\n",
    "Draw the relation between these columns"
   ]
  },
  {
   "cell_type": "code",
   "execution_count": null,
   "metadata": {},
   "outputs": [],
   "source": [
    "# relation of average pay of players in a team to the potition (or change in position) of team in table\n",
    "\n",
    "# Sort the expected team position based on the average pay for players in team  \n",
    "# Difference with the actual position\n",
    "# Find the mean difference\n",
    "# Use this difference, find the p-value maybe\n",
    "\n",
    "# Do the same for another year to see if the current average pay of players affected the position in the next year's table\n",
    "# Make hypothesis and conclusions"
   ]
  }
 ],
 "metadata": {
  "kernelspec": {
   "display_name": "Python 3",
   "language": "python",
   "name": "python3"
  },
  "language_info": {
   "codemirror_mode": {
    "name": "ipython",
    "version": 3
   },
   "file_extension": ".py",
   "mimetype": "text/x-python",
   "name": "python",
   "nbconvert_exporter": "python",
   "pygments_lexer": "ipython3",
   "version": "3.8.6"
  }
 },
 "nbformat": 4,
 "nbformat_minor": 4
}
