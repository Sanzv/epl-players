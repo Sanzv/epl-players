{
 "cells": [
  {
   "cell_type": "markdown",
   "metadata": {},
   "source": [
    "# Project Overview"
   ]
  },
  {
   "cell_type": "markdown",
   "metadata": {},
   "source": [
    "In a short paragragh describe the problem you want to explore use data science techniques"
   ]
  },
  {
   "cell_type": "markdown",
   "metadata": {},
   "source": [
    "# Problem Description\n",
    "In one sentence describe the problem you want to explore with data science"
   ]
  },
  {
   "cell_type": "markdown",
   "metadata": {},
   "source": [
    "# Subject Matter Expertise\n",
    "\n",
    "In bulleted format, describe the subject matters that will help you explore your topic. Example:\n",
    " \n",
    "1. Data Analysis\n",
    "2. Data Visualization\n",
    "3. Statistics and Probability\n",
    "4. Hypothesis Testing\n",
    "5. Linear Regression"
   ]
  },
  {
   "cell_type": "markdown",
   "metadata": {},
   "source": [
    "# Assumptions\n",
    "List any assumptions you may have about the topic. \n",
    "`Assumptions are a thing that is accepted as true or as certain to happen, without proof.`\n"
   ]
  },
  {
   "cell_type": "markdown",
   "metadata": {},
   "source": [
    "# Steps to Explore the Topic and Problem\n",
    "\n",
    "List the steps you're going to take to explore the topic using the data sources you identify and the techniques you already know. Please list them as step 1, step 2, step 3. Example:\n",
    "\n",
    "1. Download data from U.S. Census\n",
    "2. Web-scrape data from IMDB\n",
    "3. Find the number of actors that do not live in california\n",
    "4. Calculate the median salary for actors that do not live in California\n",
    "5. Show the relationship between actors living in CA vs outside CA with pie chart\n",
    "6. Show relationship between actors' salary living in CA vs outside CA with bar chart\n",
    "7. Calculate median home price of homes in CA using web scrape data\n",
    "8. Compare this to median salary for actors using bar chart\n",
    "9. Make some intitial Conclusions on actor salary, location, and median home price on if actors can afford to live in CA."
   ]
  },
  {
   "cell_type": "markdown",
   "metadata": {},
   "source": [
    "# Data Sources:\n",
    "\n",
    "In bulleted format, list where you will get data from. Data sources must include one existing data source and web-scrapted source. Example:\n",
    "\n",
    "1. U.S. Census Estimates of the Total Resident Population and Resident Population Age 18 Years and Older for the United States, States, and Puerto Rico `https://www2.census.gov/programs-surveys/popest/datasets/2010-2019/state/detail/SCPRC-EST2019-18+POP-RES.csv`\n",
    "2. Kaggle Elon Musk Tweets 'https://www.kaggle.com/kingburrito666/elon-musk-tweets'"
   ]
  },
  {
   "cell_type": "markdown",
   "metadata": {},
   "source": [
    "# Data Exploration\n",
    "Describe the data using what you know. For larger datasets may have to pull out columns that are of interst to you."
   ]
  },
  {
   "cell_type": "code",
   "execution_count": null,
   "metadata": {},
   "outputs": [],
   "source": [
    "# imports\n",
    "import pandas as pd\n",
    "import numpy as np\n",
    "import matplotlib\n",
    "%matplotlib inline\n",
    "import matplotlib.pyplot as plt\n",
    "plt.style.use('fivethirtyeight')"
   ]
  },
  {
   "cell_type": "code",
   "execution_count": null,
   "metadata": {},
   "outputs": [],
   "source": [
    "# Dataset 1\n",
    "\n",
    "epl_players = pd.read_csv(\"epldata_final.csv\")\n",
    "epl_players.head()"
   ]
  },
  {
   "cell_type": "code",
   "execution_count": null,
   "metadata": {},
   "outputs": [],
   "source": [
    "epl_players.shape"
   ]
  },
  {
   "cell_type": "code",
   "execution_count": null,
   "metadata": {},
   "outputs": [],
   "source": [
    "# Web scrape points table from Premier League website\n",
    "\n",
    "from bs4 import BeautifulSoup\n",
    "from urllib.request import Request, urlopen\n",
    "import pandas as pd\n",
    "\n",
    "def season_table(url):\n",
    "    team_names = []\n",
    "    team_positions = []\n",
    "\n",
    "    req = Request(url, headers={'User-Agent': 'Mozilla/5.0'})\n",
    "    webpage = urlopen(req)\n",
    "    bs = BeautifulSoup(webpage.read(),'html.parser')\n",
    "\n",
    "    teams = bs.find_all(\"tr\", { \"data-filtered-table-row\" : \"26\" })\n",
    "    for item in teams:\n",
    "        team_names.append(item[\"data-filtered-table-row-name\"])\n",
    "        team_positions.append(item.find(\"span\", { \"class\" : \"value\"}).text)\n",
    "    \n",
    "    points_table = pd.DataFrame({\"team_name\" : team_names, \"team_position\" : team_positions})\n",
    "    return points_table"
   ]
  },
  {
   "cell_type": "code",
   "execution_count": null,
   "metadata": {},
   "outputs": [],
   "source": [
    "# Dataset 2\n",
    "\n",
    "url_17_18 = \"https://www.premierleague.com/matchweek/1572/table\"\n",
    "table_17_18 = season_table(url_17_18)\n",
    "table_17_18"
   ]
  },
  {
   "cell_type": "code",
   "execution_count": null,
   "metadata": {},
   "outputs": [],
   "source": [
    "# Dataset 3\n",
    "\n",
    "url_18_19 = \"https://www.premierleague.com/matchweek/3272/table\"\n",
    "table_18_19 = season_table(url_18_19)\n",
    "table_18_19"
   ]
  },
  {
   "cell_type": "markdown",
   "metadata": {},
   "source": [
    "# Data Cleaning\n",
    "Show techniques you use to reduce impact of outliers, drop missing, or null values (if any)"
   ]
  },
  {
   "cell_type": "code",
   "execution_count": null,
   "metadata": {},
   "outputs": [],
   "source": [
    "epl_players.isnull().sum()"
   ]
  },
  {
   "cell_type": "markdown",
   "metadata": {},
   "source": [
    "# Describe the Data Using Descriptive Stats\n",
    "Use descriptive stats to tell us about your data. Must include mean, median, and mode where applicable. Also must talk about normality of data.\n",
    "\n",
    "Remember what `standard deviation`, `mean`, `central tendency`, and `variance` mean for your data"
   ]
  },
  {
   "cell_type": "code",
   "execution_count": null,
   "metadata": {},
   "outputs": [],
   "source": [
    "def find_descriptive_stats(column_name):\n",
    "    mean_val = epl_players[column_name].mean()\n",
    "    median_val = epl_players[column_name].median()\n",
    "    max_val = epl_players[column_name].max()\n",
    "    min_val = epl_players[column_name].min()\n",
    "    std_val = epl_players[column_name].std()\n",
    "    var_val = epl_players[column_name].var()\n",
    "    q25 = np.quantile(epl_players[column_name], 0.25)\n",
    "    q75 = np.quantile(epl_players[column_name], 0.75)\n",
    "    \n",
    "    print(\"Mean: \", mean_val)\n",
    "    print(\"Median: \", median_val)\n",
    "    print(\"Max: \", max_val)\n",
    "    print(\"Min: \", min_val)\n",
    "    print(\"Standard Deviation: \", std_val)\n",
    "    print(\"Variance: \", var_val)\n",
    "    print(\"25th Percentile: \", q25)\n",
    "    print(\"75th Percentile : \", q75)\n",
    "    \n",
    "    return (mean_val, median_val, max_val, min_val, std_val, var_val, q25, q75)\n",
    "    \n",
    "for col_name in [\"age\", \"market_value\", \"page_views\", \"fpl_value\"]:\n",
    "    print(\"For column: \", col_name)\n",
    "    find_descriptive_stats(col_name)\n",
    "    print()\n",
    "    "
   ]
  },
  {
   "cell_type": "markdown",
   "metadata": {},
   "source": [
    "# Inferential Statistics\n",
    "\n",
    "Todo: related to probability, probably this should  be in the probability section below"
   ]
  },
  {
   "cell_type": "markdown",
   "metadata": {},
   "source": [
    "# Data Visualization Continued\n",
    "Use everything from the miniproject 1 to describe the plots you will use to visualize you data. \n",
    "\n",
    "Must use histogram, bar charts, and pie charts to describe aspects abou tthe data\n",
    "\n",
    "Determine if your data is normal or not!\n"
   ]
  },
  {
   "cell_type": "code",
   "execution_count": null,
   "metadata": {},
   "outputs": [],
   "source": [
    "'''\n",
    "age with histogram\n",
    "market value histogram\n",
    "page views with histogram\n",
    "club and their  players average market value with bar chart\n",
    "club and their  players  average page views  with bar chart\n",
    "nationality in pie chart, might be unrelated\n",
    "age in pie chart\n",
    "\n",
    "relation of age and market value in scatter plot\n",
    "relation of page viewes and market value in scatter plot\n",
    "'''\n",
    "\n",
    "def plot_histogram(data, title, xlabel, ylabel):\n",
    "    plt.hist(data, edgecolor=\"black\", linewidth=1.2)\n",
    "    plt.title(title)\n",
    "    plt.xlabel(xlabel)\n",
    "    plt.ylabel(ylabel)\n",
    "    plt.show()\n",
    "\n",
    "# width should be smaller than  bar_size_multiplier\n",
    "# Do not display xticks by default as there might not be enough space\n",
    "def plot_bar_chart(distribution, bar_size_multiplier, width, figsize_x, figsize_y, title, xlabel, ylabel, xticks=False):\n",
    "    plt.figure(figsize=(figsize_x, figsize_y))\n",
    "    x_pos = [i*bar_size_multiplier for i in range(len(distribution))]\n",
    "    keys = []\n",
    "    values = []\n",
    "    for key, value in distribution.items():\n",
    "        keys.append(key)\n",
    "        values.append(np.mean(value))\n",
    "    plt.bar(x_pos, values, width=width)\n",
    "    plt.title(title)\n",
    "    plt.xlabel(xlabel)\n",
    "    plt.ylabel(ylabel)\n",
    "    if xticks:\n",
    "        plt.xticks(x_pos, keys) \n",
    "    plt.show()\n",
    "\n",
    "def plot_pie_chart(distribution):\n",
    "    keys = []\n",
    "    values = []\n",
    "    for key, value in distribution.items():\n",
    "        keys.append(key)\n",
    "        values.append(len(value))\n",
    "    plt.pie(values, labels=keys)\n",
    "    plt.title(\"Count of players in different positions\")\n",
    "    plt.show()"
   ]
  },
  {
   "cell_type": "code",
   "execution_count": null,
   "metadata": {},
   "outputs": [],
   "source": [
    "plot_histogram(epl_players[\"age\"], \"Age distribution\", \"Age\", \"Frequency\")"
   ]
  },
  {
   "cell_type": "code",
   "execution_count": null,
   "metadata": {},
   "outputs": [],
   "source": [
    "plot_histogram(epl_players[\"market_value\"], \"Market Value distribution\", \"Market Value\", \"Frequency\")"
   ]
  },
  {
   "cell_type": "code",
   "execution_count": null,
   "metadata": {},
   "outputs": [],
   "source": [
    "plot_histogram(epl_players[\"page_views\"], \"Page Views distribution\", \"Page Views\", \"Frequency\")"
   ]
  },
  {
   "cell_type": "code",
   "execution_count": null,
   "metadata": {},
   "outputs": [],
   "source": [
    "plot_histogram(epl_players[\"fpl_value\"], \"Fantasy Premier League Value distribution\", \"FPL Value\", \"Frequency\")"
   ]
  },
  {
   "cell_type": "code",
   "execution_count": null,
   "metadata": {},
   "outputs": [],
   "source": [
    "def record_one_distribution(epl_players, match_column, match_value, record_column):\n",
    "    return epl_players[epl_players[match_column] == match_value][record_column].tolist()\n",
    "\n",
    "def record_all_distributions(epl_players, match_column, record_column):\n",
    "    unique_values = epl_players[match_column].unique().tolist()\n",
    "    distributions = {}\n",
    "    \n",
    "    for match_value in unique_values:\n",
    "        distributions[match_value] = record_one_distribution(epl_players, match_column, match_value, record_column)\n",
    "    return distributions\n",
    "\n",
    "# Record distributions in dictionaries\n",
    "clubs_to_market_val = record_all_distributions(epl_players, \"club\", \"market_value\")\n",
    "\n",
    "clubs_to_page_views = record_all_distributions(epl_players, \"club\", \"page_views\")\n",
    "\n",
    "positions_to_market_val = record_all_distributions(epl_players, \"position\", \"market_value\")\n"
   ]
  },
  {
   "cell_type": "code",
   "execution_count": null,
   "metadata": {},
   "outputs": [],
   "source": [
    "plot_bar_chart(clubs_to_market_val, 5, 4, 20, 10, \"Clubs to Average Market Value\", \"Clubs\", \"Average Market Value\")"
   ]
  },
  {
   "cell_type": "code",
   "execution_count": null,
   "metadata": {},
   "outputs": [],
   "source": [
    "plot_bar_chart(positions_to_market_val, 5, 4, 20, 10, \"Positions to Average Market Value\", \"Positions\", \"Average Market Value\", xticks=True)\n"
   ]
  },
  {
   "cell_type": "code",
   "execution_count": null,
   "metadata": {},
   "outputs": [],
   "source": [
    "plot_pie_chart(positions_to_market_val)"
   ]
  },
  {
   "cell_type": "markdown",
   "metadata": {},
   "source": [
    "## Data Sampling\n",
    "\n",
    "Draw random some samples from your dataset(s)\n",
    "(If you joined your dataset into one large dataset, only sample randomly from this large dataset)\n",
    "\n",
    "You must describe how you choose to pick the random samples, i.e. systematic, probablistic sampling\n",
    "\n",
    "You must describe if you draw random samples with or without replacement\n",
    "\n",
    "Describe why or why not you chose to randomly draw samples with replacement or without replacement"
   ]
  },
  {
   "cell_type": "code",
   "execution_count": null,
   "metadata": {},
   "outputs": [],
   "source": [
    "# comparing two different position players and their average market value\n",
    "\n",
    "# check which size of sample will give a representative distribution of the sample\n",
    "\n",
    "# take a random sample of player data\n",
    "# calculate observed difference of the mean of their market value\n",
    "# for above, define a function that will take a sample and return the average difference in the mean market value\n",
    "# to calculate the difference, take all the market values, shuffle them, add these as new column to dataframe, and\n",
    "# find the difference of the market value with this value in the new suffled column value\n",
    "\n",
    "# use bootstrapping to a lot of samples from this sample\n",
    "# all these samaples will give a  distribution of empirical differences\n",
    "# calculate the p-value and conclude a hypotheesis\n",
    "\n",
    "# hypothesis: players of certain position have bigger market value than player of another position"
   ]
  },
  {
   "cell_type": "code",
   "execution_count": null,
   "metadata": {},
   "outputs": [],
   "source": [
    "# Choose a random sample size which gives a representative sample of original sample in terms of player positions\n",
    "random_sample_one = epl_players.sample(100)\n",
    "positions_to_market_val_sample_one = record_all_distributions(random_sample_one, \"position\", \"market_value\")\n",
    "plot_bar_chart(positions_to_market_val_sample_one, 5, 4, 20, 10, \"Positions to Average Market Value\", \"Positions\", \"Average Market Value\", xticks=True)\n"
   ]
  },
  {
   "cell_type": "code",
   "execution_count": null,
   "metadata": {},
   "outputs": [],
   "source": [
    "# Choose a random sample size which gives a representative sample of original sample in terms of player positions\n",
    "random_sample_two = epl_players.sample(150)\n",
    "positions_to_market_val_sample_two = record_all_distributions(random_sample_two, \"position\", \"market_value\")\n",
    "plot_bar_chart(positions_to_market_val_sample_two, 5, 4, 20, 10, \"Positions to Average Market Value\", \"Positions\", \"Average Market Value\", xticks=True)\n"
   ]
  },
  {
   "cell_type": "markdown",
   "metadata": {},
   "source": [
    "## Find Probability\n",
    "Find the probability of two events that must both happen in your data analysis\n",
    "\n",
    "Find the probablity of an event that doesn't happen using your dataset(s)\n",
    "\n",
    "Find the probability of event that is equally likely occur. You might have to think about this in regards to your problem that you are exploring\n",
    "\n"
   ]
  },
  {
   "cell_type": "code",
   "execution_count": null,
   "metadata": {},
   "outputs": [],
   "source": [
    "# probability that a player plays in this potition \n",
    "# probability that a player plays in other position\n",
    "\n",
    "# In the original sample\n",
    "prob_am_position = len(positions_to_market_val[\"AM\"])/461\n",
    "print(prob_am_position)"
   ]
  },
  {
   "cell_type": "markdown",
   "metadata": {},
   "source": [
    "## Testing Hypotheses\n",
    "\n",
    "Choose two hypotheses you want to explore in regards to your topic.\n",
    "Examples:\n",
    "The state of Montana likes cheesecake as a desert?\n",
    "Have the demographics of Washington, DC decreased over the past decade?\n",
    "United States streaming services mainly stream rap or hip/hop?\n",
    "\n",
    "### Note: Make sure to note the Null and the alternative hypotheses for each of the questions you want to test"
   ]
  },
  {
   "cell_type": "markdown",
   "metadata": {},
   "source": [
    "## Test Statistics \n",
    "For each of your questions list the test statistic that you are going to use to test the hypothesis."
   ]
  },
  {
   "cell_type": "markdown",
   "metadata": {},
   "source": [
    "## Observed Values\n",
    "Show the oberved value of the test statistics"
   ]
  },
  {
   "cell_type": "markdown",
   "metadata": {},
   "source": [
    "# Hypothesis Tests Conclusions\n",
    "Based on what you found about your topic communicate it to the audience. "
   ]
  },
  {
   "cell_type": "markdown",
   "metadata": {},
   "source": [
    "# Topic Conclusions\n",
    "Sum up the conclusions about what you did and why it is interesting to you, the public reading your analysis or to a particular population"
   ]
  },
  {
   "cell_type": "markdown",
   "metadata": {},
   "source": [
    "# Normal distribution of columns and their conversion to standard units,  this might be relevant in the correlation part as well"
   ]
  },
  {
   "cell_type": "markdown",
   "metadata": {},
   "source": [
    "# Correlation of market_value and fpl_value\n",
    "\n",
    "Use scatter plot too show the relation between these variables\n",
    "\n",
    "Define a generic function that can be used to explore the corellation between any set of variables"
   ]
  },
  {
   "cell_type": "code",
   "execution_count": null,
   "metadata": {},
   "outputs": [],
   "source": []
  },
  {
   "cell_type": "markdown",
   "metadata": {},
   "source": [
    "# Regression parameters and a scatter plot with regression line, see lab 15\n"
   ]
  },
  {
   "cell_type": "code",
   "execution_count": null,
   "metadata": {},
   "outputs": [],
   "source": []
  },
  {
   "cell_type": "markdown",
   "metadata": {},
   "source": [
    "# Least square regression line and scatter plot with this line"
   ]
  },
  {
   "cell_type": "code",
   "execution_count": null,
   "metadata": {},
   "outputs": [],
   "source": []
  },
  {
   "cell_type": "markdown",
   "metadata": {},
   "source": [
    "# Relation of average value of a team's players and the position in table for the season for both seasons\n",
    "Draw the relation between these columns"
   ]
  },
  {
   "cell_type": "code",
   "execution_count": null,
   "metadata": {},
   "outputs": [],
   "source": [
    "# relation of average pay of players in a team to the potition (or change in position) of team in table\n",
    "\n",
    "# Sort the expected team position based on the average pay for players in team  \n",
    "# Difference with the actual position\n",
    "# Find the mean difference\n",
    "# Use this difference, find the p-value maybe\n",
    "\n",
    "# Do the same for another year to see if the current average pay of players affected the position in the next year's table\n",
    "# Make hypothesis and conclusions"
   ]
  }
 ],
 "metadata": {
  "kernelspec": {
   "display_name": "Python 3",
   "language": "python",
   "name": "python3"
  },
  "language_info": {
   "codemirror_mode": {
    "name": "ipython",
    "version": 3
   },
   "file_extension": ".py",
   "mimetype": "text/x-python",
   "name": "python",
   "nbconvert_exporter": "python",
   "pygments_lexer": "ipython3",
   "version": "3.8.6"
  }
 },
 "nbformat": 4,
 "nbformat_minor": 4
}
